{
  "cells": [
    {
      "cell_type": "markdown",
      "metadata": {
        "id": "view-in-github",
        "colab_type": "text"
      },
      "source": [
        "<a href=\"https://colab.research.google.com/github/fastforwardlabs/whisper-openai/blob/master/WhisperDemo.ipynb\" target=\"_parent\"><img src=\"https://colab.research.google.com/assets/colab-badge.svg\" alt=\"Open In Colab\"/></a>"
      ]
    },
    {
      "cell_type": "markdown",
      "metadata": {
        "id": "v5hvo8QWN-a9"
      },
      "source": [
        "\n",
        "<img src=\"https://blog.fastforwardlabs.com/images/cloudera-fast-forward-logo.png\" width=300>\n",
        "\n",
        "# Make your own recordings and transcriptions with OpenAI's Whisper!\n",
        "a fun diversion brought to you by [Melanie](https://www.linkedin.com/in/melanierbeck/), ML Research Manager at Cloudera Fast Forward Labs. \n",
        "\n",
        "\\\n",
        "\n",
        "[OpenAI](https://openai.com/) [recently released](https://openai.com/blog/whisper/) Whisper, an automatic speech recognition (ASR) system that was trained on a colossal heap of audio data collected from the web. \n",
        "\n",
        "## What makes Whisper unique? \n",
        "Speech-to-text technology isn't new but Whisper might usher in the  next-generation of ASR systems in terms of the quality and capabilities delivered by a single model (rather than a collection of models, as most ASR systems are today.)  So what makes Whisper special? \n",
        "\n",
        "1. It's \"weakly supervised,\" meaning that it was trained on (audio, transcript) pairs wherein the transcriptions were _not_ human-validated, a typical hallmark of gold-stardard supervised audio datasets.  \n",
        "2. This allows Whisper to be trained on a MASSIVE amount of data scraped from the web (680K hours) -- orders of magnitude larger than most audio datasets (5-30K hours)\n",
        "3. The data contains audio snippets in dozens of languages allowing Whisper to be natively multilingual. \n",
        "4. Whisper is also multitask -- it can perform transcription, translation, voice detection, and language detection. \n",
        "\n",
        "You can learn more about Whisper in OpenAI's [recent post]((https://openai.com/blog/whisper/)), their [paper](https://cdn.openai.com/papers/whisper.pdf), and their open-source [codebase](https://github.com/openai/whisper). In fact, this notebook made use of OpenAI's [LibriSpeech](https://colab.research.google.com/github/openai/whisper/blob/master/notebooks/LibriSpeech.ipynb) Colab example as a starting point, so you should check that out as well!\n",
        "\n",
        "\n",
        "\\\n",
        "\n",
        "This notebook allows you to play with Whisper by first creating your own audio recording, processing the audio into a format the model will understand, and feeding it into Whisper for translation or transcription! Let's get started. \n",
        "\n",
        "\n"
      ]
    },
    {
      "cell_type": "markdown",
      "source": [
        "## Installs and imports \n",
        "The commands below will install the Python packages needed to record audio snippets and use Whisper models for speech-to-text transcription."
      ],
      "metadata": {
        "id": "mLdnbL4iRpvB"
      }
    },
    {
      "cell_type": "code",
      "execution_count": null,
      "metadata": {
        "id": "ZsJUxc0aRsAf"
      },
      "outputs": [],
      "source": [
        "! pip install git+https://github.com/openai/whisper.git\n",
        "! pip install sounddevice wavio\n",
        "! pip install ipywebrtc notebook"
      ]
    },
    {
      "cell_type": "markdown",
      "source": [
        "We also need the following in order to record audio from this notebook and process the resulting files. "
      ],
      "metadata": {
        "id": "nAfgdT6iHnLC"
      }
    },
    {
      "cell_type": "code",
      "source": [
        "!apt install ffmpeg\n",
        "!apt-get install libportaudio2"
      ],
      "metadata": {
        "id": "wIRFnTn3Fzua"
      },
      "execution_count": null,
      "outputs": []
    },
    {
      "cell_type": "code",
      "execution_count": 3,
      "metadata": {
        "id": "3CqtR2Fi5-vP"
      },
      "outputs": [],
      "source": [
        "import os\n",
        "import numpy as np\n",
        "\n",
        "try:\n",
        "    import tensorflow  # required in Colab to avoid protobuf compatibility issues\n",
        "except ImportError:\n",
        "    pass\n",
        "\n",
        "import torch\n",
        "import pandas as pd\n",
        "import whisper\n",
        "import torchaudio\n",
        "\n",
        "from ipywebrtc import AudioRecorder, CameraStream\n",
        "from IPython.display import Audio, display\n",
        "import ipywidgets as widgets\n",
        "\n",
        "DEVICE = \"cuda\" if torch.cuda.is_available() else \"cpu\""
      ]
    },
    {
      "cell_type": "markdown",
      "metadata": {
        "id": "1IMEkgyagYto"
      },
      "source": [
        "## Make your recording\n",
        "\n",
        "First, we need to enable some Colab widgets so that we can make an audio recording. "
      ]
    },
    {
      "cell_type": "code",
      "source": [
        "from google.colab import output\n",
        "output.enable_custom_widget_manager()"
      ],
      "metadata": {
        "id": "WmCVlVnMAGQX"
      },
      "execution_count": 4,
      "outputs": []
    },
    {
      "cell_type": "markdown",
      "source": [
        "### Time to record! \n",
        "\n",
        "Press the circle button and start speaking. It may not look it, but the widget will be capturing sound. Click the circle button again when you are finished. The widget will immediately begin to play back what it captured. "
      ],
      "metadata": {
        "id": "C4pSZkqTH8jR"
      }
    },
    {
      "cell_type": "code",
      "source": [
        "camera = CameraStream(constraints={'audio': True,'video':False})\n",
        "recorder = AudioRecorder(stream=camera)\n",
        "recorder"
      ],
      "metadata": {
        "colab": {
          "base_uri": "https://localhost:8080/",
          "height": 107,
          "referenced_widgets": [
            "09446a03c33742dfa70a9f242f96b3be",
            "8964df95ded44ee28b7ed225c564ed9b",
            "823fe8b97ef94aedaed6889ac580c8eb",
            "5604b41fde3b45dd80b954c6128bccf7",
            "09e1f5b2de9945aea20f6129b7c82ec9",
            "35775e7c3c5846a589410566cbec95fa"
          ]
        },
        "id": "-fFdSBBAGjFk",
        "outputId": "5894a254-7fe0-4593-fbee-74491cd72b9f"
      },
      "execution_count": 5,
      "outputs": [
        {
          "output_type": "display_data",
          "data": {
            "text/plain": [
              "AudioRecorder(audio=Audio(value=b'', format='webm'), stream=CameraStream(constraints={'audio': True, 'video': …"
            ],
            "application/vnd.jupyter.widget-view+json": {
              "version_major": 2,
              "version_minor": 0,
              "model_id": "09446a03c33742dfa70a9f242f96b3be"
            }
          },
          "metadata": {
            "application/vnd.jupyter.widget-view+json": {
              "colab": {
                "custom_widget_manager": {
                  "url": "https://ssl.gstatic.com/colaboratory-static/widgets/colab-cdn-widget-manager/d2e234f7cc04bf79/manager.min.js"
                }
              }
            }
          }
        }
      ]
    },
    {
      "cell_type": "markdown",
      "source": [
        "The audio format captured above is not readable by PyTorch. In this step, we convert our recording into a format that PyTorch can understand. "
      ],
      "metadata": {
        "id": "dk-zZpPBG25R"
      }
    },
    {
      "cell_type": "code",
      "source": [
        "with open('recording.webm', 'wb') as f:\n",
        "    f.write(recorder.audio.value)\n",
        "!ffmpeg -i recording.webm -ac 1 -f wav my_recording.wav -y -hide_banner -loglevel panic"
      ],
      "metadata": {
        "id": "EDDgAohMGrCR"
      },
      "execution_count": 6,
      "outputs": []
    },
    {
      "cell_type": "markdown",
      "source": [
        "### Alternatively... \n",
        "If you don't want to make your own recording, you can instead upload an audio file to this notebook. \n"
      ],
      "metadata": {
        "id": "fQJhMt6pIgJd"
      }
    },
    {
      "cell_type": "markdown",
      "source": [
        "## Select options\n",
        "\n",
        "Whisper is capable of performing transcriptions for many languages (though it performs better for some languages and worse for others.) \n",
        "\n",
        "Whisper is also capable of detecting the input language. However, to be on the safe side, we can explicitly tell Whisper which language to expect. "
      ],
      "metadata": {
        "id": "x8m2ez4lGrWn"
      }
    },
    {
      "cell_type": "code",
      "source": [
        "language_options = whisper.tokenizer.TO_LANGUAGE_CODE \n",
        "language_list = list(language_options.keys())"
      ],
      "metadata": {
        "id": "U7p2AoJItnIM"
      },
      "execution_count": 7,
      "outputs": []
    },
    {
      "cell_type": "code",
      "source": [
        "lang_dropdown = widgets.Dropdown(options=language_list, value='english')\n",
        "output = widgets.Output()\n",
        "display(lang_dropdown)"
      ],
      "metadata": {
        "id": "dpLnKvlb-vLa",
        "outputId": "bd012b8a-d413-41a9-834a-6674c0e2928a",
        "colab": {
          "base_uri": "https://localhost:8080/",
          "height": 49,
          "referenced_widgets": [
            "8c4d89ec973647d1a46aa471311e037c",
            "6c5f2af50210411f801f812dc17c389c",
            "90728ace9c454a3ab05ffb3e0bb664a3",
            "b50eded046cf4d378b1d71a186995d21"
          ]
        }
      },
      "execution_count": 8,
      "outputs": [
        {
          "output_type": "display_data",
          "data": {
            "text/plain": [
              "Dropdown(options=('english', 'chinese', 'german', 'spanish', 'russian', 'korean', 'french', 'japanese', 'portu…"
            ],
            "application/vnd.jupyter.widget-view+json": {
              "version_major": 2,
              "version_minor": 0,
              "model_id": "8c4d89ec973647d1a46aa471311e037c"
            }
          },
          "metadata": {
            "application/vnd.jupyter.widget-view+json": {
              "colab": {
                "custom_widget_manager": {
                  "url": "https://ssl.gstatic.com/colaboratory-static/widgets/colab-cdn-widget-manager/d2e234f7cc04bf79/manager.min.js"
                }
              }
            }
          }
        }
      ]
    },
    {
      "cell_type": "markdown",
      "source": [
        "Whisper is also capable of several tasks, including English-only transcription, Any-to-English translation, and non-English transcription. \n",
        "\n",
        "Below you can select either \"transcription\" (which will yield text in the same language as the input language) or \"translation\" (which will transcribe from non-English to English). \n",
        "\n",
        "![Whisper capabilities](https://cdn.openai.com/whisper/draft-20220920a/asr-training-data-desktop.svg)\n",
        "\n",
        "Image from [Introducing Whisper](https://openai.com/blog/whisper/) by OpenAI"
      ],
      "metadata": {
        "id": "EipQBR-INZOW"
      }
    },
    {
      "cell_type": "code",
      "source": [
        "task_dropdown = widgets.Dropdown(options=['transcribe', 'translate'], value='transcribe')\n",
        "output = widgets.Output()\n",
        "display(task_dropdown)"
      ],
      "metadata": {
        "id": "ilyDW-ALMnke",
        "outputId": "4a34e1f6-519c-46e5-a00b-05fbe3540e18",
        "colab": {
          "base_uri": "https://localhost:8080/",
          "height": 49,
          "referenced_widgets": [
            "43cdc270c46644b6a0308d3c499601fb",
            "5f9cd9708efb486c930c1397be9a566c",
            "20cdb2181c804215b4a1e6006be77734",
            "fb4b05bd474c409288394cd82d6a9179"
          ]
        }
      },
      "execution_count": 9,
      "outputs": [
        {
          "output_type": "display_data",
          "data": {
            "text/plain": [
              "Dropdown(options=('transcribe', 'translate'), value='transcribe')"
            ],
            "application/vnd.jupyter.widget-view+json": {
              "version_major": 2,
              "version_minor": 0,
              "model_id": "43cdc270c46644b6a0308d3c499601fb"
            }
          },
          "metadata": {
            "application/vnd.jupyter.widget-view+json": {
              "colab": {
                "custom_widget_manager": {
                  "url": "https://ssl.gstatic.com/colaboratory-static/widgets/colab-cdn-widget-manager/d2e234f7cc04bf79/manager.min.js"
                }
              }
            }
          }
        }
      ]
    },
    {
      "cell_type": "markdown",
      "source": [
        "## Load Whisper model\n",
        "\n",
        "Whisper comes in five model sizes, four of which also have an optimized English-only version. This notebook loads \"base\"-sized models (bigger than \"tiny\" but smaller than the others), which require about 1GB of RAM. \n",
        "\n",
        "If you selected English above, the cell below will load the optimized English-only version. Otherwise, it will load the multilingual model. \n"
      ],
      "metadata": {
        "id": "FG8FN6TQ_ale"
      }
    },
    {
      "cell_type": "code",
      "execution_count": 10,
      "metadata": {
        "colab": {
          "base_uri": "https://localhost:8080/"
        },
        "id": "_PokfNJtOYNu",
        "outputId": "227e41ec-b1a5-409d-c3c4-20d4564fb09c"
      },
      "outputs": [
        {
          "output_type": "stream",
          "name": "stderr",
          "text": [
            "100%|███████████████████████████████████████| 139M/139M [00:09<00:00, 14.9MiB/s]\n"
          ]
        },
        {
          "output_type": "stream",
          "name": "stdout",
          "text": [
            "Model is English-only and has 71,825,408 parameters.\n"
          ]
        }
      ],
      "source": [
        "if lang_dropdown.value == \"english\":\n",
        "  model = whisper.load_model(\"base.en\")\n",
        "else:\n",
        "  model = whisper.load_model(\"base\")\n",
        "print(\n",
        "    f\"Model is {'multilingual' if model.is_multilingual else 'English-only'} \"\n",
        "    f\"and has {sum(np.prod(p.shape) for p in model.parameters()):,} parameters.\"\n",
        ")"
      ]
    },
    {
      "cell_type": "markdown",
      "source": [
        "Finally, let's set the rest of our task and language options below and see what we've got. Check that your task and language settings are correct, but don't worry about the other defaults. "
      ],
      "metadata": {
        "id": "wNrLhTEqP-Q0"
      }
    },
    {
      "cell_type": "code",
      "execution_count": 11,
      "metadata": {
        "id": "DwOUHau-dkUt",
        "outputId": "d16eef87-3af5-43e6-b54e-407a2e32f5d8",
        "colab": {
          "base_uri": "https://localhost:8080/"
        }
      },
      "outputs": [
        {
          "output_type": "execute_result",
          "data": {
            "text/plain": [
              "DecodingOptions(task='transcribe', language='english', temperature=0.0, sample_len=None, best_of=None, beam_size=None, patience=None, length_penalty=None, prompt=None, prefix=None, suppress_blank=True, suppress_tokens='-1', without_timestamps=True, max_initial_timestamp=0.0, fp16=True)"
            ]
          },
          "metadata": {},
          "execution_count": 11
        }
      ],
      "source": [
        "options = whisper.DecodingOptions(language=lang_dropdown.value, task=task_dropdown.value, without_timestamps=True)\n",
        "options"
      ]
    },
    {
      "cell_type": "markdown",
      "source": [
        "## Take Whisper for a test drive\n",
        "\n",
        "All that's left to do now is feed our audio into Whisper. \n",
        "\n",
        "The cell below performs the last processing steps to make this happen. First, it loads our PyTorch-ready audio file. Then it pads the audio into 30 sec segments. It creates a log-mel spectrogram (wait, wut??) of the audio and this is fed into Whisper along with the options we set above. \n",
        "\n",
        "\\\n",
        "\n",
        "Note: if you chose to upload your own audio file rather than create one through this notebook, you'll need to update the audio filename below. "
      ],
      "metadata": {
        "id": "Ns_iOuQpJEHk"
      }
    },
    {
      "cell_type": "code",
      "source": [
        "audio = whisper.load_audio(\"my_recording.wav\")\n",
        "audio = whisper.pad_or_trim(audio)\n",
        "mel = whisper.log_mel_spectrogram(audio).to(model.device)\n",
        "result = model.decode(mel, options)"
      ],
      "metadata": {
        "id": "q6S0VvoK0vfq"
      },
      "execution_count": 12,
      "outputs": []
    },
    {
      "cell_type": "code",
      "source": [
        "result.text"
      ],
      "metadata": {
        "colab": {
          "base_uri": "https://localhost:8080/",
          "height": 53
        },
        "id": "Mg64_MWW1uMb",
        "outputId": "444cfab3-f2bd-4519-9779-3f4aba72d1cc"
      },
      "execution_count": 13,
      "outputs": [
        {
          "output_type": "execute_result",
          "data": {
            "text/plain": [
              "'The tree was in Virginia. It was a long way away from anywhere on the back of an old farm. To get to the farm they had to drive for almost an hour south from Blacksburg, to drive roads with names like Pennywinkle Branch and Rooster Spur. They got turned around twice and Mr. Nancy and Chernobyl both lost their tempers with shadow and with each other.'"
            ],
            "application/vnd.google.colaboratory.intrinsic+json": {
              "type": "string"
            }
          },
          "metadata": {},
          "execution_count": 13
        }
      ]
    },
    {
      "cell_type": "markdown",
      "source": [
        "### How well did Whisper do??\n",
        "\n",
        "I read aloud the snippet above from one of my favorite books. For the record, Whisper is pretty dang close, making only two small mistakes -- both on proper names.   "
      ],
      "metadata": {
        "id": "1cHDLtquJNsH"
      }
    }
  ],
  "metadata": {
    "accelerator": "GPU",
    "colab": {
      "collapsed_sections": [],
      "provenance": [],
      "include_colab_link": true
    },
    "gpuClass": "standard",
    "kernelspec": {
      "display_name": "Python 3 (ipykernel)",
      "language": "python",
      "name": "python3"
    },
    "language_info": {
      "codemirror_mode": {
        "name": "ipython",
        "version": 3
      },
      "file_extension": ".py",
      "mimetype": "text/x-python",
      "name": "python",
      "nbconvert_exporter": "python",
      "pygments_lexer": "ipython3",
      "version": "3.9.9"
    },
    "widgets": {
      "application/vnd.jupyter.widget-state+json": {
        "09446a03c33742dfa70a9f242f96b3be": {
          "model_module": "jupyter-webrtc",
          "model_name": "AudioRecorderModel",
          "model_module_version": "~0.6.0",
          "state": {
            "_data_src": "blob:https://nfrp4p17vqk-496ff2e9c6d22116-0-colab.googleusercontent.com/d984436f-3337-406a-97dd-76a1145ef36f",
            "_dom_classes": [],
            "_model_module": "jupyter-webrtc",
            "_model_module_version": "~0.6.0",
            "_model_name": "AudioRecorderModel",
            "_view_count": null,
            "_view_module": "jupyter-webrtc",
            "_view_module_version": "~0.6.0",
            "_view_name": "AudioRecorderView",
            "audio": "IPY_MODEL_8964df95ded44ee28b7ed225c564ed9b",
            "autosave": false,
            "codecs": "",
            "filename": "record",
            "format": "webm",
            "layout": "IPY_MODEL_823fe8b97ef94aedaed6889ac580c8eb",
            "recording": false,
            "stream": "IPY_MODEL_5604b41fde3b45dd80b954c6128bccf7"
          }
        },
        "8964df95ded44ee28b7ed225c564ed9b": {
          "model_module": "@jupyter-widgets/controls",
          "model_name": "AudioModel",
          "model_module_version": "1.5.0",
          "state": {
            "_dom_classes": [],
            "_model_module": "@jupyter-widgets/controls",
            "_model_module_version": "1.5.0",
            "_model_name": "AudioModel",
            "_view_count": null,
            "_view_module": "@jupyter-widgets/controls",
            "_view_module_version": "1.5.0",
            "_view_name": "AudioView",
            "autoplay": true,
            "controls": true,
            "format": "webm",
            "layout": "IPY_MODEL_09e1f5b2de9945aea20f6129b7c82ec9",
            "loop": true
          }
        },
        "823fe8b97ef94aedaed6889ac580c8eb": {
          "model_module": "@jupyter-widgets/base",
          "model_name": "LayoutModel",
          "model_module_version": "1.2.0",
          "state": {
            "_model_module": "@jupyter-widgets/base",
            "_model_module_version": "1.2.0",
            "_model_name": "LayoutModel",
            "_view_count": null,
            "_view_module": "@jupyter-widgets/base",
            "_view_module_version": "1.2.0",
            "_view_name": "LayoutView",
            "align_content": null,
            "align_items": null,
            "align_self": null,
            "border": null,
            "bottom": null,
            "display": null,
            "flex": null,
            "flex_flow": null,
            "grid_area": null,
            "grid_auto_columns": null,
            "grid_auto_flow": null,
            "grid_auto_rows": null,
            "grid_column": null,
            "grid_gap": null,
            "grid_row": null,
            "grid_template_areas": null,
            "grid_template_columns": null,
            "grid_template_rows": null,
            "height": null,
            "justify_content": null,
            "justify_items": null,
            "left": null,
            "margin": null,
            "max_height": null,
            "max_width": null,
            "min_height": null,
            "min_width": null,
            "object_fit": null,
            "object_position": null,
            "order": null,
            "overflow": null,
            "overflow_x": null,
            "overflow_y": null,
            "padding": null,
            "right": null,
            "top": null,
            "visibility": null,
            "width": null
          }
        },
        "5604b41fde3b45dd80b954c6128bccf7": {
          "model_module": "jupyter-webrtc",
          "model_name": "CameraStreamModel",
          "model_module_version": "~0.6.0",
          "state": {
            "_dom_classes": [],
            "_model_module": "jupyter-webrtc",
            "_model_module_version": "~0.6.0",
            "_model_name": "CameraStreamModel",
            "_view_count": null,
            "_view_module": "jupyter-webrtc",
            "_view_module_version": "~0.6.0",
            "_view_name": "MediaStreamView",
            "constraints": {
              "audio": true,
              "video": false
            },
            "layout": "IPY_MODEL_35775e7c3c5846a589410566cbec95fa"
          }
        },
        "09e1f5b2de9945aea20f6129b7c82ec9": {
          "model_module": "@jupyter-widgets/base",
          "model_name": "LayoutModel",
          "model_module_version": "1.2.0",
          "state": {
            "_model_module": "@jupyter-widgets/base",
            "_model_module_version": "1.2.0",
            "_model_name": "LayoutModel",
            "_view_count": null,
            "_view_module": "@jupyter-widgets/base",
            "_view_module_version": "1.2.0",
            "_view_name": "LayoutView",
            "align_content": null,
            "align_items": null,
            "align_self": null,
            "border": null,
            "bottom": null,
            "display": null,
            "flex": null,
            "flex_flow": null,
            "grid_area": null,
            "grid_auto_columns": null,
            "grid_auto_flow": null,
            "grid_auto_rows": null,
            "grid_column": null,
            "grid_gap": null,
            "grid_row": null,
            "grid_template_areas": null,
            "grid_template_columns": null,
            "grid_template_rows": null,
            "height": null,
            "justify_content": null,
            "justify_items": null,
            "left": null,
            "margin": null,
            "max_height": null,
            "max_width": null,
            "min_height": null,
            "min_width": null,
            "object_fit": null,
            "object_position": null,
            "order": null,
            "overflow": null,
            "overflow_x": null,
            "overflow_y": null,
            "padding": null,
            "right": null,
            "top": null,
            "visibility": null,
            "width": null
          }
        },
        "35775e7c3c5846a589410566cbec95fa": {
          "model_module": "@jupyter-widgets/base",
          "model_name": "LayoutModel",
          "model_module_version": "1.2.0",
          "state": {
            "_model_module": "@jupyter-widgets/base",
            "_model_module_version": "1.2.0",
            "_model_name": "LayoutModel",
            "_view_count": null,
            "_view_module": "@jupyter-widgets/base",
            "_view_module_version": "1.2.0",
            "_view_name": "LayoutView",
            "align_content": null,
            "align_items": null,
            "align_self": null,
            "border": null,
            "bottom": null,
            "display": null,
            "flex": null,
            "flex_flow": null,
            "grid_area": null,
            "grid_auto_columns": null,
            "grid_auto_flow": null,
            "grid_auto_rows": null,
            "grid_column": null,
            "grid_gap": null,
            "grid_row": null,
            "grid_template_areas": null,
            "grid_template_columns": null,
            "grid_template_rows": null,
            "height": null,
            "justify_content": null,
            "justify_items": null,
            "left": null,
            "margin": null,
            "max_height": null,
            "max_width": null,
            "min_height": null,
            "min_width": null,
            "object_fit": null,
            "object_position": null,
            "order": null,
            "overflow": null,
            "overflow_x": null,
            "overflow_y": null,
            "padding": null,
            "right": null,
            "top": null,
            "visibility": null,
            "width": null
          }
        },
        "8c4d89ec973647d1a46aa471311e037c": {
          "model_module": "@jupyter-widgets/controls",
          "model_name": "DropdownModel",
          "model_module_version": "1.5.0",
          "state": {
            "_dom_classes": [],
            "_model_module": "@jupyter-widgets/controls",
            "_model_module_version": "1.5.0",
            "_model_name": "DropdownModel",
            "_options_labels": [
              "english",
              "chinese",
              "german",
              "spanish",
              "russian",
              "korean",
              "french",
              "japanese",
              "portuguese",
              "turkish",
              "polish",
              "catalan",
              "dutch",
              "arabic",
              "swedish",
              "italian",
              "indonesian",
              "hindi",
              "finnish",
              "vietnamese",
              "hebrew",
              "ukrainian",
              "greek",
              "malay",
              "czech",
              "romanian",
              "danish",
              "hungarian",
              "tamil",
              "norwegian",
              "thai",
              "urdu",
              "croatian",
              "bulgarian",
              "lithuanian",
              "latin",
              "maori",
              "malayalam",
              "welsh",
              "slovak",
              "telugu",
              "persian",
              "latvian",
              "bengali",
              "serbian",
              "azerbaijani",
              "slovenian",
              "kannada",
              "estonian",
              "macedonian",
              "breton",
              "basque",
              "icelandic",
              "armenian",
              "nepali",
              "mongolian",
              "bosnian",
              "kazakh",
              "albanian",
              "swahili",
              "galician",
              "marathi",
              "punjabi",
              "sinhala",
              "khmer",
              "shona",
              "yoruba",
              "somali",
              "afrikaans",
              "occitan",
              "georgian",
              "belarusian",
              "tajik",
              "sindhi",
              "gujarati",
              "amharic",
              "yiddish",
              "lao",
              "uzbek",
              "faroese",
              "haitian creole",
              "pashto",
              "turkmen",
              "nynorsk",
              "maltese",
              "sanskrit",
              "luxembourgish",
              "myanmar",
              "tibetan",
              "tagalog",
              "malagasy",
              "assamese",
              "tatar",
              "hawaiian",
              "lingala",
              "hausa",
              "bashkir",
              "javanese",
              "sundanese",
              "burmese",
              "valencian",
              "flemish",
              "haitian",
              "letzeburgesch",
              "pushto",
              "panjabi",
              "moldavian",
              "moldovan",
              "sinhalese",
              "castilian"
            ],
            "_view_count": null,
            "_view_module": "@jupyter-widgets/controls",
            "_view_module_version": "1.5.0",
            "_view_name": "DropdownView",
            "description": "",
            "description_tooltip": null,
            "disabled": false,
            "index": 0,
            "layout": "IPY_MODEL_6c5f2af50210411f801f812dc17c389c",
            "style": "IPY_MODEL_90728ace9c454a3ab05ffb3e0bb664a3"
          }
        },
        "6c5f2af50210411f801f812dc17c389c": {
          "model_module": "@jupyter-widgets/base",
          "model_name": "LayoutModel",
          "model_module_version": "1.2.0",
          "state": {
            "_model_module": "@jupyter-widgets/base",
            "_model_module_version": "1.2.0",
            "_model_name": "LayoutModel",
            "_view_count": null,
            "_view_module": "@jupyter-widgets/base",
            "_view_module_version": "1.2.0",
            "_view_name": "LayoutView",
            "align_content": null,
            "align_items": null,
            "align_self": null,
            "border": null,
            "bottom": null,
            "display": null,
            "flex": null,
            "flex_flow": null,
            "grid_area": null,
            "grid_auto_columns": null,
            "grid_auto_flow": null,
            "grid_auto_rows": null,
            "grid_column": null,
            "grid_gap": null,
            "grid_row": null,
            "grid_template_areas": null,
            "grid_template_columns": null,
            "grid_template_rows": null,
            "height": null,
            "justify_content": null,
            "justify_items": null,
            "left": null,
            "margin": null,
            "max_height": null,
            "max_width": null,
            "min_height": null,
            "min_width": null,
            "object_fit": null,
            "object_position": null,
            "order": null,
            "overflow": null,
            "overflow_x": null,
            "overflow_y": null,
            "padding": null,
            "right": null,
            "top": null,
            "visibility": null,
            "width": null
          }
        },
        "90728ace9c454a3ab05ffb3e0bb664a3": {
          "model_module": "@jupyter-widgets/controls",
          "model_name": "DescriptionStyleModel",
          "model_module_version": "1.5.0",
          "state": {
            "_model_module": "@jupyter-widgets/controls",
            "_model_module_version": "1.5.0",
            "_model_name": "DescriptionStyleModel",
            "_view_count": null,
            "_view_module": "@jupyter-widgets/base",
            "_view_module_version": "1.2.0",
            "_view_name": "StyleView",
            "description_width": ""
          }
        },
        "b50eded046cf4d378b1d71a186995d21": {
          "model_module": "@jupyter-widgets/base",
          "model_name": "LayoutModel",
          "model_module_version": "1.2.0",
          "state": {
            "_model_module": "@jupyter-widgets/base",
            "_model_module_version": "1.2.0",
            "_model_name": "LayoutModel",
            "_view_count": null,
            "_view_module": "@jupyter-widgets/base",
            "_view_module_version": "1.2.0",
            "_view_name": "LayoutView",
            "align_content": null,
            "align_items": null,
            "align_self": null,
            "border": null,
            "bottom": null,
            "display": null,
            "flex": null,
            "flex_flow": null,
            "grid_area": null,
            "grid_auto_columns": null,
            "grid_auto_flow": null,
            "grid_auto_rows": null,
            "grid_column": null,
            "grid_gap": null,
            "grid_row": null,
            "grid_template_areas": null,
            "grid_template_columns": null,
            "grid_template_rows": null,
            "height": null,
            "justify_content": null,
            "justify_items": null,
            "left": null,
            "margin": null,
            "max_height": null,
            "max_width": null,
            "min_height": null,
            "min_width": null,
            "object_fit": null,
            "object_position": null,
            "order": null,
            "overflow": null,
            "overflow_x": null,
            "overflow_y": null,
            "padding": null,
            "right": null,
            "top": null,
            "visibility": null,
            "width": null
          }
        },
        "43cdc270c46644b6a0308d3c499601fb": {
          "model_module": "@jupyter-widgets/controls",
          "model_name": "DropdownModel",
          "model_module_version": "1.5.0",
          "state": {
            "_dom_classes": [],
            "_model_module": "@jupyter-widgets/controls",
            "_model_module_version": "1.5.0",
            "_model_name": "DropdownModel",
            "_options_labels": [
              "transcribe",
              "translate"
            ],
            "_view_count": null,
            "_view_module": "@jupyter-widgets/controls",
            "_view_module_version": "1.5.0",
            "_view_name": "DropdownView",
            "description": "",
            "description_tooltip": null,
            "disabled": false,
            "index": 0,
            "layout": "IPY_MODEL_5f9cd9708efb486c930c1397be9a566c",
            "style": "IPY_MODEL_20cdb2181c804215b4a1e6006be77734"
          }
        },
        "5f9cd9708efb486c930c1397be9a566c": {
          "model_module": "@jupyter-widgets/base",
          "model_name": "LayoutModel",
          "model_module_version": "1.2.0",
          "state": {
            "_model_module": "@jupyter-widgets/base",
            "_model_module_version": "1.2.0",
            "_model_name": "LayoutModel",
            "_view_count": null,
            "_view_module": "@jupyter-widgets/base",
            "_view_module_version": "1.2.0",
            "_view_name": "LayoutView",
            "align_content": null,
            "align_items": null,
            "align_self": null,
            "border": null,
            "bottom": null,
            "display": null,
            "flex": null,
            "flex_flow": null,
            "grid_area": null,
            "grid_auto_columns": null,
            "grid_auto_flow": null,
            "grid_auto_rows": null,
            "grid_column": null,
            "grid_gap": null,
            "grid_row": null,
            "grid_template_areas": null,
            "grid_template_columns": null,
            "grid_template_rows": null,
            "height": null,
            "justify_content": null,
            "justify_items": null,
            "left": null,
            "margin": null,
            "max_height": null,
            "max_width": null,
            "min_height": null,
            "min_width": null,
            "object_fit": null,
            "object_position": null,
            "order": null,
            "overflow": null,
            "overflow_x": null,
            "overflow_y": null,
            "padding": null,
            "right": null,
            "top": null,
            "visibility": null,
            "width": null
          }
        },
        "20cdb2181c804215b4a1e6006be77734": {
          "model_module": "@jupyter-widgets/controls",
          "model_name": "DescriptionStyleModel",
          "model_module_version": "1.5.0",
          "state": {
            "_model_module": "@jupyter-widgets/controls",
            "_model_module_version": "1.5.0",
            "_model_name": "DescriptionStyleModel",
            "_view_count": null,
            "_view_module": "@jupyter-widgets/base",
            "_view_module_version": "1.2.0",
            "_view_name": "StyleView",
            "description_width": ""
          }
        },
        "fb4b05bd474c409288394cd82d6a9179": {
          "model_module": "@jupyter-widgets/base",
          "model_name": "LayoutModel",
          "model_module_version": "1.2.0",
          "state": {
            "_model_module": "@jupyter-widgets/base",
            "_model_module_version": "1.2.0",
            "_model_name": "LayoutModel",
            "_view_count": null,
            "_view_module": "@jupyter-widgets/base",
            "_view_module_version": "1.2.0",
            "_view_name": "LayoutView",
            "align_content": null,
            "align_items": null,
            "align_self": null,
            "border": null,
            "bottom": null,
            "display": null,
            "flex": null,
            "flex_flow": null,
            "grid_area": null,
            "grid_auto_columns": null,
            "grid_auto_flow": null,
            "grid_auto_rows": null,
            "grid_column": null,
            "grid_gap": null,
            "grid_row": null,
            "grid_template_areas": null,
            "grid_template_columns": null,
            "grid_template_rows": null,
            "height": null,
            "justify_content": null,
            "justify_items": null,
            "left": null,
            "margin": null,
            "max_height": null,
            "max_width": null,
            "min_height": null,
            "min_width": null,
            "object_fit": null,
            "object_position": null,
            "order": null,
            "overflow": null,
            "overflow_x": null,
            "overflow_y": null,
            "padding": null,
            "right": null,
            "top": null,
            "visibility": null,
            "width": null
          }
        }
      }
    }
  },
  "nbformat": 4,
  "nbformat_minor": 0
}